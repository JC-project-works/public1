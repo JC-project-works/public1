{
 "cells": [
  {
   "cell_type": "markdown",
   "id": "2167646c-6816-4272-8e15-44c1e7d0fc84",
   "metadata": {
    "tags": []
   },
   "source": [
    "# Data Science Tools and Ecosystem"
   ]
  },
  {
   "cell_type": "markdown",
   "id": "e0488503-1edc-4938-b34e-70866eed7814",
   "metadata": {
    "tags": []
   },
   "source": [
    "## In this notebook, Data Science Tools and Ecosystem are summarized."
   ]
  },
  {
   "cell_type": "markdown",
   "id": "f87ac64b-e651-485d-a0d9-042a31f42471",
   "metadata": {
    "tags": []
   },
   "source": [
    "**Objectives:**\n",
    "- List popular languages for Data Science.\n",
    "- List popular libraries for Data Science.\n",
    "- List Markdown cell to demonstrate heading.\n",
    "- List Markdown cell to demonstrate tables."
   ]
  },
  {
   "cell_type": "markdown",
   "id": "98703fdc-d9c0-46e7-a6c3-b7c358ecfcc0",
   "metadata": {},
   "source": [
    "## Some of the popular languages that Data Scientists use are:\n",
    "1. Python\n",
    "2. Java\n",
    "3. R"
   ]
  },
  {
   "cell_type": "markdown",
   "id": "24f6ff80-c09b-4b99-a395-27aa4c1ddd00",
   "metadata": {
    "tags": []
   },
   "source": [
    "## Some of the commonly used libraries used by Data Scientists include:\n",
    "1. Mathplotlib\n",
    "2. Tensor Flow\n",
    "3. NumPy"
   ]
  },
  {
   "cell_type": "markdown",
   "id": "0d59ef81-07ca-4b15-b3aa-424620126a88",
   "metadata": {},
   "source": [
    "| Data Science Tools |\n",
    "| ------------------ |\n",
    "| Hadoop |\n",
    "| Apache Spark |\n",
    "| RStudio |\n"
   ]
  },
  {
   "cell_type": "markdown",
   "id": "f8aaa977-64fa-4856-95dc-d6a94321440a",
   "metadata": {},
   "source": [
    "### Below are a few examples of evaluating arithmetic expressions in Python"
   ]
  },
  {
   "cell_type": "markdown",
   "id": "17cef209-0641-4811-8254-2727b9a3da5b",
   "metadata": {},
   "source": [
    "This a simple arithmetic expression to mutiply then add integers"
   ]
  },
  {
   "cell_type": "code",
   "execution_count": 1,
   "id": "b0252cfe-574a-4984-8ada-993edf39449e",
   "metadata": {
    "tags": []
   },
   "outputs": [
    {
     "data": {
      "text/plain": [
       "17"
      ]
     },
     "execution_count": 1,
     "metadata": {},
     "output_type": "execute_result"
    }
   ],
   "source": [
    "(3*4)+5"
   ]
  },
  {
   "cell_type": "markdown",
   "id": "2748b134-d8d2-415c-9ed3-857ccc98637d",
   "metadata": {},
   "source": [
    "This will convert 200 minutes to hours by diving by 60"
   ]
  },
  {
   "cell_type": "code",
   "execution_count": 2,
   "id": "71a5ae82-a1c6-41a7-b15f-0ddb3bdfd613",
   "metadata": {
    "tags": []
   },
   "outputs": [
    {
     "data": {
      "text/plain": [
       "3.3333333333333335"
      ]
     },
     "execution_count": 2,
     "metadata": {},
     "output_type": "execute_result"
    }
   ],
   "source": [
    "200/60"
   ]
  },
  {
   "cell_type": "markdown",
   "id": "d566d117-5fe7-4a35-a153-4fd38478bfb0",
   "metadata": {},
   "source": [
    "## Author\n",
    "Joseph Cherian"
   ]
  },
  {
   "cell_type": "code",
   "execution_count": null,
   "id": "7e25a3cd-33aa-498d-9031-b265fcb6553a",
   "metadata": {},
   "outputs": [],
   "source": []
  }
 ],
 "metadata": {
  "kernelspec": {
   "display_name": "Python",
   "language": "python",
   "name": "conda-env-python-py"
  },
  "language_info": {
   "codemirror_mode": {
    "name": "ipython",
    "version": 3
   },
   "file_extension": ".py",
   "mimetype": "text/x-python",
   "name": "python",
   "nbconvert_exporter": "python",
   "pygments_lexer": "ipython3",
   "version": "3.7.12"
  }
 },
 "nbformat": 4,
 "nbformat_minor": 5
}
